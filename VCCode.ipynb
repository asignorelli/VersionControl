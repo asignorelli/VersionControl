{
 "cells": [
  {
   "cell_type": "code",
   "execution_count": 18,
   "id": "e6842d09-b81b-40fd-b016-f3359ceb8a6d",
   "metadata": {},
   "outputs": [
    {
     "name": "stdin",
     "output_type": "stream",
     "text": [
      "Please enter your name:  alyssa\n"
     ]
    },
    {
     "name": "stdout",
     "output_type": "stream",
     "text": [
      "eeblysseeb\n"
     ]
    }
   ],
   "source": [
    "name = input(\"Please enter your name: \")\n",
    "vowels = ('a', 'e', 'i', 'o', 'u')\n",
    "word = name\n",
    "for letter in name:\n",
    "    if letter.lower() in vowels:\n",
    "        word = word.replace(letter, \"eeb\")\n",
    "print(word)"
   ]
  },
  {
   "cell_type": "code",
   "execution_count": null,
   "id": "d7b2bf64-1ff7-4762-bda0-4c588e6f94d6",
   "metadata": {},
   "outputs": [],
   "source": []
  },
  {
   "cell_type": "code",
   "execution_count": null,
   "id": "7df9c8e1-9f2d-4db8-88d6-135e5cc4c1c4",
   "metadata": {},
   "outputs": [],
   "source": []
  }
 ],
 "metadata": {
  "kernelspec": {
   "display_name": "Python 3 (ipykernel)",
   "language": "python",
   "name": "python3"
  },
  "language_info": {
   "codemirror_mode": {
    "name": "ipython",
    "version": 3
   },
   "file_extension": ".py",
   "mimetype": "text/x-python",
   "name": "python",
   "nbconvert_exporter": "python",
   "pygments_lexer": "ipython3",
   "version": "3.12.4"
  }
 },
 "nbformat": 4,
 "nbformat_minor": 5
}
